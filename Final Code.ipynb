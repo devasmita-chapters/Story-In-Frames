{
 "cells": [
  {
   "cell_type": "code",
   "execution_count": null,
   "id": "19990a86",
   "metadata": {},
   "outputs": [
    {
     "name": "stdout",
     "output_type": "stream",
     "text": [
      "✅ Video created successfully: comic_video.mp4\n",
      "🎬 Adding background music...\n",
      "MoviePy - Building video comic_with_music.mp4.\n",
      "MoviePy - Writing audio in comic_with_musicTEMP_MPY_wvf_snd.mp4\n"
     ]
    },
    {
     "name": "stderr",
     "output_type": "stream",
     "text": [
      "                                                                   \r"
     ]
    },
    {
     "name": "stdout",
     "output_type": "stream",
     "text": [
      "MoviePy - Done.\n",
      "MoviePy - Writing video comic_with_music.mp4\n",
      "\n"
     ]
    },
    {
     "name": "stderr",
     "output_type": "stream",
     "text": [
      "                                                                         \r"
     ]
    },
    {
     "name": "stdout",
     "output_type": "stream",
     "text": [
      "MoviePy - Done !\n",
      "MoviePy - video ready comic_with_music.mp4\n",
      "🎵 Final video with background music saved as: comic_with_music.mp4\n"
     ]
    }
   ],
   "source": [
    "import os\n",
    "import textwrap\n",
    "import numpy as np\n",
    "from PIL import Image, ImageDraw, ImageFont\n",
    "import imageio\n",
    "from moviepy import VideoFileClip, AudioFileClip  # ✅ new import style for MoviePy v2+\n",
    "\n",
    "# === CONFIG ===\n",
    "comic_panels = [\n",
    "    {\"image\": \"happy.jpg\", \"text\": \"I can't believe another year has flown by!\"},\n",
    "    {\"image\": \"pensive.jpg\", \"text\": \"My brain's been running on so many tabs I forgot to clear the cache.\"},\n",
    "    {\"image\": \"sad.jpg\", \"text\": \"I wish I could go to beach, it's been long. I need some vitamin sea!\"},\n",
    "    {\"image\": \"determined.jpg\", \"text\": \"But hey, it's a new year! Time to optimize my life and conquer some new horizons!\"},\n",
    "    {\"image\": \"pointing.jpg\", \"text\": \"Firstly I need to find perfectly delicious meal I can possibly eat today.\"},\n",
    "    {\"image\": \"thinking.jpg\", \"text\": \"Maybe something with fresh seafood... right on the sand... I can almost smell the salt air.\"},\n",
    "    {\"image\": \"excited.jpg\", \"text\": \"Speaking of smells... wait, is that the scent of freshly baked birthday carbs?\"},\n",
    "    {\"image\": \"me.jpg\", \"text\": \"Don't get too distracted by food! I've been running your life's algorithms all day...\"},\n",
    "    {\"image\": \"noise.jpg\", \"text\": \"Wait… I heard a sound, was that a creak? Or just my imagination?\"},\n",
    "    {\"image\": \"investigating.jpg\", \"text\": \"Wait... what's that behind the couch?\"},\n",
    "    {\"image\": \"gift.jpg\", \"text\": \"A present! You're the best! \"},\n",
    "    {\"image\": \"ending.jpg\", \"text\": \"Let's plan a trip soon..!!\"}\n",
    "]\n",
    "\n",
    "video_file = \"comic_video.mp4\"\n",
    "final_video = \"comic_with_music.mp4\"\n",
    "audio_file = \"background.mp3\"  # 🎵 your downloaded background music\n",
    "font_path = \"comic.ttf\"\n",
    "bubble_scale = 0.42\n",
    "line_spacing = 16\n",
    "fps = 10\n",
    "display_seconds = 4\n",
    "fade_frames = 10\n",
    "\n",
    "\n",
    "# === DRAW SPEECH BUBBLE ===\n",
    "def draw_comic_bubble(draw, x, y, w, h, outline_color=(0, 0, 0, 255), fill_color=(255, 255, 255, 200)):\n",
    "    radius = h // 4\n",
    "    draw.rounded_rectangle([x, y, x + w, y + h],\n",
    "                           radius=radius, fill=fill_color,\n",
    "                           outline=outline_color, width=2)\n",
    "\n",
    "\n",
    "# === PANEL RENDERING ===\n",
    "def draw_panel_with_bubble(panel):\n",
    "    img = Image.open(panel[\"image\"]).convert(\"RGBA\")\n",
    "    panel_w, panel_h = img.size\n",
    "    draw = ImageDraw.Draw(img, 'RGBA')\n",
    "\n",
    "    try:\n",
    "        font = ImageFont.truetype(font_path, 32)\n",
    "    except:\n",
    "        font = ImageFont.truetype(\"arial.ttf\", 32)\n",
    "\n",
    "    bubble_w = int(panel_w * bubble_scale)\n",
    "    bubble_h = int(panel_h * bubble_scale * 0.5)\n",
    "    bubble_y = 20\n",
    "    bubble_x = (panel_w - bubble_w)//2\n",
    "\n",
    "    draw_comic_bubble(draw, bubble_x, bubble_y, bubble_w, bubble_h)\n",
    "\n",
    "    chars_per_line = max(10, bubble_w // 18)\n",
    "    wrapped_text = textwrap.fill(panel[\"text\"], width=chars_per_line)\n",
    "    text_lines = wrapped_text.split(\"\\n\")\n",
    "    line_height = font.getbbox(\"A\")[3] - font.getbbox(\"A\")[1]\n",
    "    text_block_height = (line_height + line_spacing) * len(text_lines) - line_spacing\n",
    "    text_y = bubble_y + (bubble_h - text_block_height) // 2\n",
    "\n",
    "    for line in text_lines:\n",
    "        text_w = draw.textlength(line, font=font)\n",
    "        text_x = bubble_x + (bubble_w - text_w) // 2\n",
    "        draw.text((text_x, text_y), line, font=font, fill=(0, 0, 0, 255))\n",
    "        text_y += line_height + line_spacing\n",
    "\n",
    "    return img.convert(\"RGB\")\n",
    "\n",
    "\n",
    "# === CREATE VIDEO ===\n",
    "def create_video_from_panels(panels, video_output, fps=10, display_seconds=4, fade_frames=10):\n",
    "    frames = []\n",
    "    images = [draw_panel_with_bubble(panel) for panel in panels]\n",
    "    display_frames = display_seconds * fps\n",
    "\n",
    "    for i, img in enumerate(images):\n",
    "        frames.extend([np.array(img)] * display_frames)\n",
    "        if i < len(images) - 1:\n",
    "            next_img = np.array(images[i+1])\n",
    "            for f in range(1, fade_frames + 1):\n",
    "                alpha = f / (fade_frames + 1)\n",
    "                blended = np.array(img)*(1-alpha) + next_img*alpha\n",
    "                frames.append(blended.astype(np.uint8))\n",
    "\n",
    "    imageio.mimwrite(video_output, frames, fps=fps)\n",
    "    print(f\"✅ Video created successfully: {video_output}\")\n",
    "\n",
    "\n",
    "# === MERGE VIDEO + BACKGROUND MUSIC ===\n",
    "def merge_video_audio(video_path, audio_path, output_path):\n",
    "    if not os.path.exists(audio_path):\n",
    "        print(\"⚠️ No background.mp3 found in the current folder. Skipping music merge.\")\n",
    "        os.rename(video_path, output_path)\n",
    "        return\n",
    "\n",
    "    print(\"🎬 Adding background music...\")\n",
    "    video = VideoFileClip(video_path)\n",
    "    audio = AudioFileClip(audio_path)\n",
    "\n",
    "    # Trim or loop audio to match video duration (v2+ safe way)\n",
    "    if audio.duration > video.duration:\n",
    "        audio = audio.with_duration(video.duration)\n",
    "    else:\n",
    "        audio = audio.loop(duration=video.duration)\n",
    "\n",
    "    video = video.with_audio(audio)\n",
    "    video.write_videofile(output_path, codec=\"libx264\", audio_codec=\"aac\")\n",
    "    print(f\"🎵 Final video with background music saved as: {output_path}\")\n",
    "\n",
    "\n",
    "# === RUN ===\n",
    "if __name__ == \"__main__\":\n",
    "    create_video_from_panels(comic_panels, video_file,\n",
    "                             fps=fps, display_seconds=display_seconds, fade_frames=fade_frames)\n",
    "    merge_video_audio(video_file, audio_file, final_video)\n"
   ]
  }
 ],
 "metadata": {
  "kernelspec": {
   "display_name": "Comic_Video",
   "language": "python",
   "name": "python3"
  },
  "language_info": {
   "codemirror_mode": {
    "name": "ipython",
    "version": 3
   },
   "file_extension": ".py",
   "mimetype": "text/x-python",
   "name": "python",
   "nbconvert_exporter": "python",
   "pygments_lexer": "ipython3",
   "version": "3.14.0"
  }
 },
 "nbformat": 4,
 "nbformat_minor": 5
}
